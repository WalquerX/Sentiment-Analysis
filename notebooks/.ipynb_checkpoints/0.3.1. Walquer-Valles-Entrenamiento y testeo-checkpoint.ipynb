{
 "cells": [
  {
   "cell_type": "code",
   "execution_count": 14,
   "metadata": {},
   "outputs": [],
   "source": [
    "import numpy as np\n",
    "import pandas as pd\n",
    "\n",
    "import helpers # custom module"
   ]
  },
  {
   "cell_type": "code",
   "execution_count": 11,
   "metadata": {},
   "outputs": [],
   "source": [
    "data = pd.read_csv('cleaned_reviews.csv') # Cargar datos\n",
    "data.rename(columns = {'cleaned_reviews': 'reviews', 'overall': 'sentiment'}, inplace = True) # Cambiar nombre a columnas\n"
   ]
  },
  {
   "cell_type": "code",
   "execution_count": 12,
   "metadata": {},
   "outputs": [
    {
     "data": {
      "text/plain": [
       "Index(['reviews', 'sentiment'], dtype='object')"
      ]
     },
     "execution_count": 12,
     "metadata": {},
     "output_type": "execute_result"
    }
   ],
   "source": [
    "data.columns"
   ]
  },
  {
   "cell_type": "code",
   "execution_count": 13,
   "metadata": {},
   "outputs": [
    {
     "name": "stdout",
     "output_type": "stream",
     "text": [
      "Remaining data is 92.47123073922371\n"
     ]
    },
    {
     "data": {
      "text/html": [
       "<div>\n",
       "<style scoped>\n",
       "    .dataframe tbody tr th:only-of-type {\n",
       "        vertical-align: middle;\n",
       "    }\n",
       "\n",
       "    .dataframe tbody tr th {\n",
       "        vertical-align: top;\n",
       "    }\n",
       "\n",
       "    .dataframe thead th {\n",
       "        text-align: right;\n",
       "    }\n",
       "</style>\n",
       "<table border=\"1\" class=\"dataframe\">\n",
       "  <thead>\n",
       "    <tr style=\"text-align: right;\">\n",
       "      <th></th>\n",
       "      <th>reviews</th>\n",
       "      <th>sentiment</th>\n",
       "    </tr>\n",
       "  </thead>\n",
       "  <tbody>\n",
       "    <tr>\n",
       "      <th>0</th>\n",
       "      <td>not much to write about here but it does exact...</td>\n",
       "      <td>1</td>\n",
       "    </tr>\n",
       "    <tr>\n",
       "      <th>1</th>\n",
       "      <td>the product does exactly as it should and is q...</td>\n",
       "      <td>1</td>\n",
       "    </tr>\n",
       "    <tr>\n",
       "      <th>2</th>\n",
       "      <td>the primary job of this device is to block the...</td>\n",
       "      <td>1</td>\n",
       "    </tr>\n",
       "  </tbody>\n",
       "</table>\n",
       "</div>"
      ],
      "text/plain": [
       "                                             reviews  sentiment\n",
       "0  not much to write about here but it does exact...          1\n",
       "1  the product does exactly as it should and is q...          1\n",
       "2  the primary job of this device is to block the...          1"
      ]
     },
     "execution_count": 13,
     "metadata": {},
     "output_type": "execute_result"
    }
   ],
   "source": [
    "# Hacer de esto una función\n",
    "\n",
    "data_sent = data[data['sentiment'] != 3.0].copy()\n",
    "data_sent.shape \n",
    "\n",
    "print(f'Remaining data is {((data_sent.shape[0])/(data.shape[0]))*100}')\n",
    "\n",
    "post_or_neg = data_sent['sentiment'].apply(lambda x: 1 if x > 3 else 0)\n",
    "data_sent['sentiment'] = post_or_neg\n",
    "data_sent.head(3)"
   ]
  },
  {
   "cell_type": "code",
   "execution_count": 18,
   "metadata": {},
   "outputs": [],
   "source": [
    "target = 'sentiment'\n",
    "features = data_sent.drop(columns=target).columns"
   ]
  },
  {
   "cell_type": "code",
   "execution_count": 17,
   "metadata": {},
   "outputs": [
    {
     "name": "stdout",
     "output_type": "stream",
     "text": [
      "Training data (7585 rows): Target distribution\n"
     ]
    },
    {
     "data": {
      "text/html": [
       "<div>\n",
       "<style scoped>\n",
       "    .dataframe tbody tr th:only-of-type {\n",
       "        vertical-align: middle;\n",
       "    }\n",
       "\n",
       "    .dataframe tbody tr th {\n",
       "        vertical-align: top;\n",
       "    }\n",
       "\n",
       "    .dataframe thead th {\n",
       "        text-align: right;\n",
       "    }\n",
       "</style>\n",
       "<table border=\"1\" class=\"dataframe\">\n",
       "  <thead>\n",
       "    <tr style=\"text-align: right;\">\n",
       "      <th></th>\n",
       "      <th>p_frequency</th>\n",
       "      <th>n_frequency</th>\n",
       "    </tr>\n",
       "  </thead>\n",
       "  <tbody>\n",
       "    <tr>\n",
       "      <th>1</th>\n",
       "      <td>0.950692</td>\n",
       "      <td>7211</td>\n",
       "    </tr>\n",
       "    <tr>\n",
       "      <th>0</th>\n",
       "      <td>0.049308</td>\n",
       "      <td>374</td>\n",
       "    </tr>\n",
       "  </tbody>\n",
       "</table>\n",
       "</div>"
      ],
      "text/plain": [
       "   p_frequency  n_frequency\n",
       "1     0.950692         7211\n",
       "0     0.049308          374"
      ]
     },
     "metadata": {},
     "output_type": "display_data"
    },
    {
     "name": "stdout",
     "output_type": "stream",
     "text": [
      "Test data (1897 rows): Target distribution\n"
     ]
    },
    {
     "data": {
      "text/html": [
       "<div>\n",
       "<style scoped>\n",
       "    .dataframe tbody tr th:only-of-type {\n",
       "        vertical-align: middle;\n",
       "    }\n",
       "\n",
       "    .dataframe tbody tr th {\n",
       "        vertical-align: top;\n",
       "    }\n",
       "\n",
       "    .dataframe thead th {\n",
       "        text-align: right;\n",
       "    }\n",
       "</style>\n",
       "<table border=\"1\" class=\"dataframe\">\n",
       "  <thead>\n",
       "    <tr style=\"text-align: right;\">\n",
       "      <th></th>\n",
       "      <th>p_frequency</th>\n",
       "      <th>n_frequency</th>\n",
       "    </tr>\n",
       "  </thead>\n",
       "  <tbody>\n",
       "    <tr>\n",
       "      <th>1</th>\n",
       "      <td>0.950975</td>\n",
       "      <td>1804</td>\n",
       "    </tr>\n",
       "    <tr>\n",
       "      <th>0</th>\n",
       "      <td>0.049025</td>\n",
       "      <td>93</td>\n",
       "    </tr>\n",
       "  </tbody>\n",
       "</table>\n",
       "</div>"
      ],
      "text/plain": [
       "   p_frequency  n_frequency\n",
       "1     0.950975         1804\n",
       "0     0.049025           93"
      ]
     },
     "metadata": {},
     "output_type": "display_data"
    }
   ],
   "source": [
    "# Split data into train & test\n",
    "\n",
    "X_train, X_test, y_train, y_test = helpers.partition(data_sent, target)\n",
    "\n",
    "# Append target back using indices\n",
    "\n",
    "train = pd.concat([X_train, y_train], axis=1)\n",
    "test = pd.concat([X_test, y_test], axis=1)\n",
    "\n",
    "# Inspect training data\n",
    "\n",
    "print(f\"Training data ({train.shape[0]} rows): Target distribution\")\n",
    "display(helpers.find_frequency(y_train))\n",
    "print(f\"Test data ({test.shape[0]} rows): Target distribution\")\n",
    "display(helpers.find_frequency(y_test))"
   ]
  },
  {
   "cell_type": "code",
   "execution_count": 61,
   "metadata": {},
   "outputs": [
    {
     "data": {
      "text/html": [
       "<div>\n",
       "<style scoped>\n",
       "    .dataframe tbody tr th:only-of-type {\n",
       "        vertical-align: middle;\n",
       "    }\n",
       "\n",
       "    .dataframe tbody tr th {\n",
       "        vertical-align: top;\n",
       "    }\n",
       "\n",
       "    .dataframe thead th {\n",
       "        text-align: right;\n",
       "    }\n",
       "</style>\n",
       "<table border=\"1\" class=\"dataframe\">\n",
       "  <thead>\n",
       "    <tr style=\"text-align: right;\">\n",
       "      <th></th>\n",
       "      <th>reviews</th>\n",
       "    </tr>\n",
       "  </thead>\n",
       "  <tbody>\n",
       "    <tr>\n",
       "      <th>10093</th>\n",
       "      <td>this is a modeling amp it has several presets ...</td>\n",
       "    </tr>\n",
       "    <tr>\n",
       "      <th>3739</th>\n",
       "      <td>i have read where people are using bottle caps...</td>\n",
       "    </tr>\n",
       "    <tr>\n",
       "      <th>5468</th>\n",
       "      <td>i have other behringer products and have never...</td>\n",
       "    </tr>\n",
       "    <tr>\n",
       "      <th>4182</th>\n",
       "      <td>i have always loved hercules products their mi...</td>\n",
       "    </tr>\n",
       "    <tr>\n",
       "      <th>8169</th>\n",
       "      <td>i own a few tuners including a boss tu recentl...</td>\n",
       "    </tr>\n",
       "    <tr>\n",
       "      <th>...</th>\n",
       "      <td>...</td>\n",
       "    </tr>\n",
       "    <tr>\n",
       "      <th>9405</th>\n",
       "      <td>this is a simple and cheap way to hook your pe...</td>\n",
       "    </tr>\n",
       "    <tr>\n",
       "      <th>9528</th>\n",
       "      <td>i enjoy playing this thing so much it is reaso...</td>\n",
       "    </tr>\n",
       "    <tr>\n",
       "      <th>3986</th>\n",
       "      <td>cheap crappy strap it is too stiff not comfort...</td>\n",
       "    </tr>\n",
       "    <tr>\n",
       "      <th>4742</th>\n",
       "      <td>it has a tinney sound to it but for dollars or...</td>\n",
       "    </tr>\n",
       "    <tr>\n",
       "      <th>6263</th>\n",
       "      <td>a bit heavy and does not fold up to be very co...</td>\n",
       "    </tr>\n",
       "  </tbody>\n",
       "</table>\n",
       "<p>1897 rows × 1 columns</p>\n",
       "</div>"
      ],
      "text/plain": [
       "                                                 reviews\n",
       "10093  this is a modeling amp it has several presets ...\n",
       "3739   i have read where people are using bottle caps...\n",
       "5468   i have other behringer products and have never...\n",
       "4182   i have always loved hercules products their mi...\n",
       "8169   i own a few tuners including a boss tu recentl...\n",
       "...                                                  ...\n",
       "9405   this is a simple and cheap way to hook your pe...\n",
       "9528   i enjoy playing this thing so much it is reaso...\n",
       "3986   cheap crappy strap it is too stiff not comfort...\n",
       "4742   it has a tinney sound to it but for dollars or...\n",
       "6263   a bit heavy and does not fold up to be very co...\n",
       "\n",
       "[1897 rows x 1 columns]"
      ]
     },
     "execution_count": 61,
     "metadata": {},
     "output_type": "execute_result"
    }
   ],
   "source": [
    "X_test"
   ]
  },
  {
   "cell_type": "code",
   "execution_count": 41,
   "metadata": {},
   "outputs": [],
   "source": [
    "from sklearn.model_selection import train_test_split\n",
    "\n",
    "X_tr, X_cv, y_tr, y_cv = train_test_split(X_train['reviews'], y_train, test_size=0.3, stratify=y_train, random_state=100)"
   ]
  },
  {
   "cell_type": "code",
   "execution_count": 40,
   "metadata": {},
   "outputs": [
    {
     "data": {
      "text/html": [
       "<div>\n",
       "<style scoped>\n",
       "    .dataframe tbody tr th:only-of-type {\n",
       "        vertical-align: middle;\n",
       "    }\n",
       "\n",
       "    .dataframe tbody tr th {\n",
       "        vertical-align: top;\n",
       "    }\n",
       "\n",
       "    .dataframe thead th {\n",
       "        text-align: right;\n",
       "    }\n",
       "</style>\n",
       "<table border=\"1\" class=\"dataframe\">\n",
       "  <thead>\n",
       "    <tr style=\"text-align: right;\">\n",
       "      <th></th>\n",
       "      <th>reviews</th>\n",
       "    </tr>\n",
       "  </thead>\n",
       "  <tbody>\n",
       "    <tr>\n",
       "      <th>5495</th>\n",
       "      <td>i am well pleased with the quality and perform...</td>\n",
       "    </tr>\n",
       "    <tr>\n",
       "      <th>2694</th>\n",
       "      <td>having a neck heavy epiphone sg g i really lik...</td>\n",
       "    </tr>\n",
       "    <tr>\n",
       "      <th>6661</th>\n",
       "      <td>does what its suppose to only giving it stars ...</td>\n",
       "    </tr>\n",
       "    <tr>\n",
       "      <th>354</th>\n",
       "      <td>i bought it years ago here at amazon and i cou...</td>\n",
       "    </tr>\n",
       "    <tr>\n",
       "      <th>6049</th>\n",
       "      <td>i borrowed a friends mxr to try and liked the ...</td>\n",
       "    </tr>\n",
       "    <tr>\n",
       "      <th>...</th>\n",
       "      <td>...</td>\n",
       "    </tr>\n",
       "    <tr>\n",
       "      <th>1234</th>\n",
       "      <td>i always keep these around during string chang...</td>\n",
       "    </tr>\n",
       "    <tr>\n",
       "      <th>8995</th>\n",
       "      <td>picks are personal thing and even then everyon...</td>\n",
       "    </tr>\n",
       "    <tr>\n",
       "      <th>3402</th>\n",
       "      <td>i bought one of these for a friend of mine and...</td>\n",
       "    </tr>\n",
       "    <tr>\n",
       "      <th>1785</th>\n",
       "      <td>the plastic is pretty lightweight but it is a ...</td>\n",
       "    </tr>\n",
       "    <tr>\n",
       "      <th>666</th>\n",
       "      <td>i love this thing action is perfect great soun...</td>\n",
       "    </tr>\n",
       "  </tbody>\n",
       "</table>\n",
       "<p>7585 rows × 1 columns</p>\n",
       "</div>"
      ],
      "text/plain": [
       "                                                reviews\n",
       "5495  i am well pleased with the quality and perform...\n",
       "2694  having a neck heavy epiphone sg g i really lik...\n",
       "6661  does what its suppose to only giving it stars ...\n",
       "354   i bought it years ago here at amazon and i cou...\n",
       "6049  i borrowed a friends mxr to try and liked the ...\n",
       "...                                                 ...\n",
       "1234  i always keep these around during string chang...\n",
       "8995  picks are personal thing and even then everyon...\n",
       "3402  i bought one of these for a friend of mine and...\n",
       "1785  the plastic is pretty lightweight but it is a ...\n",
       "666   i love this thing action is perfect great soun...\n",
       "\n",
       "[7585 rows x 1 columns]"
      ]
     },
     "execution_count": 40,
     "metadata": {},
     "output_type": "execute_result"
    }
   ],
   "source": [
    "X_train"
   ]
  },
  {
   "cell_type": "code",
   "execution_count": 51,
   "metadata": {},
   "outputs": [
    {
     "data": {
      "text/plain": [
       "6370    1\n",
       "5186    1\n",
       "8528    1\n",
       "688     1\n",
       "8572    1\n",
       "       ..\n",
       "8739    1\n",
       "5200    1\n",
       "6857    1\n",
       "278     1\n",
       "1513    1\n",
       "Name: sentiment, Length: 5309, dtype: int64"
      ]
     },
     "execution_count": 51,
     "metadata": {},
     "output_type": "execute_result"
    }
   ],
   "source": [
    "y_tr"
   ]
  },
  {
   "cell_type": "code",
   "execution_count": 19,
   "metadata": {},
   "outputs": [],
   "source": [
    "X = train[features].values\n",
    "y = train[target].values"
   ]
  },
  {
   "cell_type": "code",
   "execution_count": 22,
   "metadata": {},
   "outputs": [],
   "source": [
    "# BOG"
   ]
  },
  {
   "cell_type": "code",
   "execution_count": 62,
   "metadata": {},
   "outputs": [
    {
     "name": "stdout",
     "output_type": "stream",
     "text": [
      "shape of X_train_bow is (5309, 14140)\n",
      "shape of X_cv_bow is (2276, 14140)\n",
      "shape of X_test_bow is (1897, 14140)\n"
     ]
    }
   ],
   "source": [
    "from sklearn.feature_extraction.text import CountVectorizer\n",
    "\n",
    "bow = CountVectorizer()\n",
    "bow.fit(X_tr)\n",
    "X_train_bow = bow.transform(X_tr)\n",
    "X_cv_bow = bow.transform(X_cv)\n",
    "X_test_bow = bow.transform(X_test['reviews']) # ***********************\n",
    "bow_features = bow.get_feature_names()\n",
    "\n",
    "print('shape of X_train_bow is {}'.format(X_train_bow.get_shape()))\n",
    "print('shape of X_cv_bow is {}'.format(X_cv_bow.get_shape()))\n",
    "print('shape of X_test_bow is {}'.format(X_test_bow.get_shape()))"
   ]
  },
  {
   "cell_type": "code",
   "execution_count": 43,
   "metadata": {},
   "outputs": [],
   "source": [
    "#Naive Bayes On BagOfWords Features"
   ]
  },
  {
   "cell_type": "code",
   "execution_count": 46,
   "metadata": {},
   "outputs": [
    {
     "data": {
      "image/png": "[encoded data removed]",
      "text/plain": [
       "<Figure size 432x288 with 1 Axes>"
      ]
     },
     "metadata": {
      "needs_background": "light"
     },
     "output_type": "display_data"
    }
   ],
   "source": [
    "from sklearn.naive_bayes import MultinomialNB\n",
    "from sklearn.metrics import roc_auc_score\n",
    "import matplotlib.pyplot as plt\n",
    "\n",
    "train_auc = []\n",
    "cv_auc = []\n",
    "alpha = [0.0001,0.001,0.01,0.1,1,10,100,1000,10000]\n",
    "for param in alpha:\n",
    "    naive = MultinomialNB(alpha=param)\n",
    "    naive.fit(X_train_bow,y_tr)\n",
    "    # roc_auc_score(y_true, y_score) the 2nd parameter should be probability estimates of the positive class\n",
    "    y_train_pred =  naive.predict_proba(X_train_bow)[:,1]\n",
    "    y_cv_pred =  naive.predict_proba(X_cv_bow)[:,1]\n",
    "    train_auc.append(roc_auc_score(y_tr,y_train_pred))\n",
    "    cv_auc.append(roc_auc_score(y_cv, y_cv_pred))\n",
    "#plotting\n",
    "plt.grid(True)\n",
    "plt.plot(np.log(alpha), train_auc, label='Train AUC')\n",
    "plt.plot(np.log(alpha), cv_auc, label='CV AUC')\n",
    "plt.scatter(np.log(alpha), train_auc)\n",
    "plt.scatter(np.log(alpha), cv_auc)\n",
    "plt.legend()\n",
    "plt.xlabel(\"alpha: hyperparameter\")\n",
    "plt.ylabel(\"AUC\")\n",
    "plt.title(\"ERROR PLOTS\")\n",
    "plt.show()"
   ]
  },
  {
   "cell_type": "code",
   "execution_count": 52,
   "metadata": {},
   "outputs": [
    {
     "data": {
      "text/plain": [
       "(5309,)"
      ]
     },
     "execution_count": 52,
     "metadata": {},
     "output_type": "execute_result"
    }
   ],
   "source": [
    "y_tr.shape"
   ]
  },
  {
   "cell_type": "code",
   "execution_count": 53,
   "metadata": {},
   "outputs": [
    {
     "data": {
      "text/plain": [
       "(5309,)"
      ]
     },
     "execution_count": 53,
     "metadata": {},
     "output_type": "execute_result"
    }
   ],
   "source": [
    "naive_opt.predict_proba(X_train_bow)[:,1].shape"
   ]
  },
  {
   "cell_type": "code",
   "execution_count": 55,
   "metadata": {},
   "outputs": [
    {
     "data": {
      "text/plain": [
       "(1897,)"
      ]
     },
     "execution_count": 55,
     "metadata": {},
     "output_type": "execute_result"
    }
   ],
   "source": [
    "y_test.shape"
   ]
  },
  {
   "cell_type": "code",
   "execution_count": 63,
   "metadata": {},
   "outputs": [
    {
     "data": {
      "text/plain": [
       "<1897x14140 sparse matrix of type '<class 'numpy.int64'>'\n",
       "\twith 107379 stored elements in Compressed Sparse Row format>"
      ]
     },
     "execution_count": 63,
     "metadata": {},
     "output_type": "execute_result"
    }
   ],
   "source": [
    "X_test_bow"
   ]
  },
  {
   "cell_type": "code",
   "execution_count": 59,
   "metadata": {},
   "outputs": [
    {
     "data": {
      "text/plain": [
       "(1,)"
      ]
     },
     "execution_count": 59,
     "metadata": {},
     "output_type": "execute_result"
    }
   ],
   "source": [
    "naive_opt.predict_proba(X_test_bow)[:,1].shape"
   ]
  },
  {
   "cell_type": "code",
   "execution_count": 68,
   "metadata": {},
   "outputs": [],
   "source": [
    "import seaborn as sns\n",
    "\n",
    "# helper function to plot confusion matrix\n",
    "def plot_confusion_matrixes(model,x_train,y_train,x_test,y_test):\n",
    "    cm_train = confusion_matrix(y_train,model.predict(x_train))\n",
    "    cm_test =  confusion_matrix(y_test,model.predict(x_test))\n",
    "    class_label = [\"negative\", \"positive\"]\n",
    "    df_train = pd.DataFrame(cm_train, index = class_label, columns = class_label)\n",
    "    df_test = pd.DataFrame(cm_test, index = class_label, columns = class_label)\n",
    "    f, axes = plt.subplots(1, 2,figsize=(12,4))\n",
    "\n",
    "    for i in range(2):\n",
    "      df = df_train if i==0 else df_test\n",
    "      sns.heatmap(df, annot = True, fmt = \"d\",ax=axes[i])\n",
    "      axes[i].set_title(f\"Confusion Matrix - {'Train' if i==0 else 'Test'}\")\n",
    "      axes[i].set_xlabel(\"Predicted Label\")\n",
    "      axes[i].set_ylabel(\"True Label\")\n",
    "    plt.show()"
   ]
  },
  {
   "cell_type": "code",
   "execution_count": 69,
   "metadata": {},
   "outputs": [
    {
     "data": {
      "image/png": "[encoded data removed]",
      "text/plain": [
       "<Figure size 432x288 with 1 Axes>"
      ]
     },
     "metadata": {
      "needs_background": "light"
     },
     "output_type": "display_data"
    },
    {
     "name": "stdout",
     "output_type": "stream",
     "text": [
      "Area under train roc 0.9975633624086262\n",
      "Area under test roc 0.6956315714183535\n"
     ]
    },
    {
     "data": {
      "image/png": "[encoded data removed]",
      "text/plain": [
       "<Figure size 864x288 with 4 Axes>"
      ]
     },
     "metadata": {
      "needs_background": "light"
     },
     "output_type": "display_data"
    }
   ],
   "source": [
    "from sklearn.metrics import roc_curve, auc\n",
    "from sklearn.metrics import confusion_matrix\n",
    "\n",
    "optimal_alpha = 0.1\n",
    "naive_opt = MultinomialNB(alpha=optimal_alpha)\n",
    "naive_opt = naive_opt.fit(X_train_bow,y_tr)\n",
    "\n",
    "train_fpr, train_tpr, thresholds = roc_curve(y_tr, naive_opt.predict_proba(X_train_bow)[:,1])\n",
    "\n",
    "test_fpr, test_tpr, thresholds = roc_curve(y_test, naive_opt.predict_proba(X_test_bow)[:,1])\n",
    "\n",
    "plt.grid(True)\n",
    "plt.plot(train_fpr, train_tpr, label=\"train AUC =\"+str(auc(train_fpr, train_tpr)))\n",
    "plt.plot(test_fpr, test_tpr, label=\"test AUC =\"+str(auc(test_fpr, test_tpr)))\n",
    "plt.legend()\n",
    "plt.xlabel(\"fpr\")\n",
    "plt.ylabel(\"tpr\")\n",
    "plt.title(\"ROC CURVE FOR OPTIMAL K\")\n",
    "plt.show()\n",
    "\n",
    "#Area under ROC curve\n",
    "print('Area under train roc {}'.format(auc(train_fpr, train_tpr)))\n",
    "print('Area under test roc {}'.format(auc(test_fpr, test_tpr)))\n",
    "plot_confusion_matrixes(naive_opt,X_train_bow,y_tr,X_test_bow,y_test)"
   ]
  },
  {
   "cell_type": "code",
   "execution_count": 70,
   "metadata": {},
   "outputs": [
    {
     "data": {
      "text/plain": [
       "0.6201159679861756"
      ]
     },
     "execution_count": 70,
     "metadata": {},
     "output_type": "execute_result"
    }
   ],
   "source": [
    "from sklearn.metrics import f1_score\n",
    "\n",
    "predictions = naive_opt.predict(X_test_bow)\n",
    "\n",
    "R_forest_f1 = f1_score(y_test, predictions, average='macro')\n",
    "R_forest_f1"
   ]
  },
  {
   "cell_type": "markdown",
   "metadata": {},
   "source": [
    "## Conclusiones"
   ]
  },
  {
   "cell_type": "markdown",
   "metadata": {},
   "source": [
    "Aunque apenas ligeramente por encima de un modelo que elija aleatoreamente, el classificador de bayes obtuvo mejores resultados\n",
    "los modelos de árboles.\n",
    "\n",
    "Esto teniendo en cuenta el desbalance de clases, por lo que se midió el f1_score macro."
   ]
  }
 ],
 "metadata": {
  "kernelspec": {
   "display_name": "Python 3",
   "language": "python",
   "name": "python3"
  },
  "language_info": {
   "codemirror_mode": {
    "name": "ipython",
    "version": 3
   },
   "file_extension": ".py",
   "mimetype": "text/x-python",
   "name": "python",
   "nbconvert_exporter": "python",
   "pygments_lexer": "ipython3",
   "version": "3.8.5"
  }
 },
 "nbformat": 4,
 "nbformat_minor": 4
}
